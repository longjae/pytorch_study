{
  "nbformat": 4,
  "nbformat_minor": 0,
  "metadata": {
    "colab": {
      "provenance": [],
      "gpuType": "T4",
      "authorship_tag": "ABX9TyODR/GVEWugADUfDvz4PHSh",
      "include_colab_link": true
    },
    "kernelspec": {
      "name": "python3",
      "display_name": "Python 3"
    },
    "language_info": {
      "name": "python"
    },
    "accelerator": "GPU"
  },
  "cells": [
    {
      "cell_type": "markdown",
      "metadata": {
        "id": "view-in-github",
        "colab_type": "text"
      },
      "source": [
        "<a href=\"https://colab.research.google.com/github/longjae/pytorch_study/blob/master/dataset_dataloader.ipynb\" target=\"_parent\"><img src=\"https://colab.research.google.com/assets/colab-badge.svg\" alt=\"Open In Colab\"/></a>"
      ]
    },
    {
      "cell_type": "markdown",
      "source": [
        "# Dataset & Dataloader\n",
        "- 데이터 샘플을 처리하는 코드는 지저분(messy)하고 유지보구사 어려울 수 있음\n",
        "  - 더 나은 가독성(readability)과 모듈성(modularity)을 위해 데이터셋 코드를 모델 학습 코드로부터 분리하는 것이 이상적\n",
        "- PyTorch는 torch.utils.data.DataLoader와 torch.utils.data.Dataset의 두 가지 데이터 기본 요소를 제공하여 미리 준비해둔(pre-loaded) 데이터셋 뿐만 아니라 가지고 있는 데이터를 사용할 수 있도록 함\n",
        "- Dataset은 샘플과 정답(label)을 저장하고, DataLoader는 Dataset을 샘플에 쉽게 접근할 수 있도록 순회 가능한 객체(iterable)로 감쌈"
      ],
      "metadata": {
        "id": "8RKe4m0bwgXf"
      }
    },
    {
      "cell_type": "markdown",
      "source": [
        "## 데이터셋 불러오기\n",
        "- TorchVision에서 Fashion-MNIST 데이터셋을 불러오는 예제\n",
        "  - Zalando의 기사 이미지 데이터셋\n",
        "  - 60,000개의 학습 예제와 10,000개의 테스트 예제로 구성되어 있음\n",
        "  - 각 예제는 흑백(grayscale)의 28*28 이미지와 10개 분류(class) 중 하나인 정답(label)으로 구성\n",
        "- 다음 매개변수들을 사용하여 Fashion-MNIST 데이터셋을 불러옴\n",
        "  - root: 학습/테스트 데이터가 저장되는 경로\n",
        "  - train: 학습용 또는 테스트용 데이터셋 여부를 지정\n",
        "  - download = True는 root에 데이터가 없는 경우 인터넷에서 다운로드\n",
        "  - transform과 target_transform은 특징(feature)과 정답(label) 변형(transform)을 지정"
      ],
      "metadata": {
        "id": "4LM7uSzPxRKx"
      }
    },
    {
      "cell_type": "code",
      "execution_count": 2,
      "metadata": {
        "id": "_kBfy1eOwbyZ"
      },
      "outputs": [],
      "source": [
        "import torch\n",
        "from torch.utils.data import Dataset\n",
        "from torchvision import datasets\n",
        "from torchvision.transforms import ToTensor\n",
        "import matplotlib.pyplot as plt"
      ]
    },
    {
      "cell_type": "code",
      "source": [
        "training_data = datasets.FashionMNIST(\n",
        "    root=\"data\",\n",
        "    train=True,\n",
        "    download=True,\n",
        "    transform=ToTensor()\n",
        ")\n",
        "\n",
        "test_data = datasets.FashionMNIST(\n",
        "    root=\"data\",\n",
        "    train=False,\n",
        "    download=True,\n",
        "    transform=ToTensor()\n",
        ")"
      ],
      "metadata": {
        "id": "RqdPdV7QyYpG",
        "colab": {
          "base_uri": "https://localhost:8080/"
        },
        "outputId": "cd984583-8e4c-4c12-86da-4dbd0ef6d9fd"
      },
      "execution_count": 3,
      "outputs": [
        {
          "output_type": "stream",
          "name": "stdout",
          "text": [
            "Downloading http://fashion-mnist.s3-website.eu-central-1.amazonaws.com/train-images-idx3-ubyte.gz\n",
            "Downloading http://fashion-mnist.s3-website.eu-central-1.amazonaws.com/train-images-idx3-ubyte.gz to data/FashionMNIST/raw/train-images-idx3-ubyte.gz\n"
          ]
        },
        {
          "output_type": "stream",
          "name": "stderr",
          "text": [
            "100%|██████████| 26421880/26421880 [00:01<00:00, 16043006.20it/s]\n"
          ]
        },
        {
          "output_type": "stream",
          "name": "stdout",
          "text": [
            "Extracting data/FashionMNIST/raw/train-images-idx3-ubyte.gz to data/FashionMNIST/raw\n",
            "\n",
            "Downloading http://fashion-mnist.s3-website.eu-central-1.amazonaws.com/train-labels-idx1-ubyte.gz\n",
            "Downloading http://fashion-mnist.s3-website.eu-central-1.amazonaws.com/train-labels-idx1-ubyte.gz to data/FashionMNIST/raw/train-labels-idx1-ubyte.gz\n"
          ]
        },
        {
          "output_type": "stream",
          "name": "stderr",
          "text": [
            "100%|██████████| 29515/29515 [00:00<00:00, 274167.57it/s]\n"
          ]
        },
        {
          "output_type": "stream",
          "name": "stdout",
          "text": [
            "Extracting data/FashionMNIST/raw/train-labels-idx1-ubyte.gz to data/FashionMNIST/raw\n",
            "\n",
            "Downloading http://fashion-mnist.s3-website.eu-central-1.amazonaws.com/t10k-images-idx3-ubyte.gz\n",
            "Downloading http://fashion-mnist.s3-website.eu-central-1.amazonaws.com/t10k-images-idx3-ubyte.gz to data/FashionMNIST/raw/t10k-images-idx3-ubyte.gz\n"
          ]
        },
        {
          "output_type": "stream",
          "name": "stderr",
          "text": [
            "100%|██████████| 4422102/4422102 [00:00<00:00, 5125561.88it/s]\n"
          ]
        },
        {
          "output_type": "stream",
          "name": "stdout",
          "text": [
            "Extracting data/FashionMNIST/raw/t10k-images-idx3-ubyte.gz to data/FashionMNIST/raw\n",
            "\n",
            "Downloading http://fashion-mnist.s3-website.eu-central-1.amazonaws.com/t10k-labels-idx1-ubyte.gz\n",
            "Downloading http://fashion-mnist.s3-website.eu-central-1.amazonaws.com/t10k-labels-idx1-ubyte.gz to data/FashionMNIST/raw/t10k-labels-idx1-ubyte.gz\n"
          ]
        },
        {
          "output_type": "stream",
          "name": "stderr",
          "text": [
            "100%|██████████| 5148/5148 [00:00<00:00, 13312131.31it/s]"
          ]
        },
        {
          "output_type": "stream",
          "name": "stdout",
          "text": [
            "Extracting data/FashionMNIST/raw/t10k-labels-idx1-ubyte.gz to data/FashionMNIST/raw\n",
            "\n"
          ]
        },
        {
          "output_type": "stream",
          "name": "stderr",
          "text": [
            "\n"
          ]
        }
      ]
    },
    {
      "cell_type": "markdown",
      "source": [
        "## 데이터셋을 순회하고 시각화하기\n",
        "- Dataset에 리스트(list)처럼 직접 접근(index)할 수 있음\n",
        "- training_data[index], matplotlib을 사용하여 학습 데이터의 일부를 시각화"
      ],
      "metadata": {
        "id": "0kQg3M9Xy4UI"
      }
    },
    {
      "cell_type": "code",
      "source": [
        "labels_map = {\n",
        "    0: \"T-Shirt\",\n",
        "    1: \"Trouser\",\n",
        "    2: \"Pullover\",\n",
        "    3: \"Dress\",\n",
        "    4: \"Coat\",\n",
        "    5: \"Sandal\",\n",
        "    6: \"Shirt\",\n",
        "    7: \"Sneaker\",\n",
        "    8: \"Bag\",\n",
        "    9: \"Ankle Boot\",\n",
        "}\n",
        "figure = plt.figure(figsize=(8, 8))\n",
        "cols, rows = 3, 3\n",
        "for i in range(1, cols * rows + 1):\n",
        "  sample_idx = torch.randint(len(training_data), size=(1,)).item()\n",
        "  img, label = training_data[sample_idx]\n",
        "  figure.add_subplot(rows, cols, i)\n",
        "  plt.title(labels_map[label])\n",
        "  plt.axis(\"off\")\n",
        "  plt.imshow(img.squeeze(), cmap=\"gray\")\n",
        "plt.show()"
      ],
      "metadata": {
        "id": "DT3AW6Dtyr1y",
        "colab": {
          "base_uri": "https://localhost:8080/",
          "height": 675
        },
        "outputId": "af708efa-6edf-43f3-d28f-56a24c03964f"
      },
      "execution_count": 4,
      "outputs": [
        {
          "output_type": "display_data",
          "data": {
            "text/plain": [
              "<Figure size 800x800 with 9 Axes>"
            ],
            "image/png": "[encoded data removed]"
          },
          "metadata": {}
        }
      ]
    },
    {
      "cell_type": "markdown",
      "source": [
        "## 파일에서 사용자 정의 데이터셋 만들기\n",
        "- 사용자 정의 Dataset 클래스는 반드시 3개 함수를 구현해야 함\n",
        "  - \\_\\_init__, \\_\\_len__, \\_\\_getitem__\n",
        "- FashionMNIST 이미지들은 img_dir 디렉토리에 저장되고, 정답은 annotations_file csv파일에 별도 저장됨"
      ],
      "metadata": {
        "id": "G9IMMM1j1fEx"
      }
    },
    {
      "cell_type": "code",
      "source": [
        "import os\n",
        "import pandas as pd\n",
        "from torchvision.io import read_image"
      ],
      "metadata": {
        "id": "sktRmNoi1TbL"
      },
      "execution_count": 5,
      "outputs": []
    },
    {
      "cell_type": "code",
      "source": [
        "class CustomImageDataset(Dataset):\n",
        "  def __init__(self, annotations_file, img_dir, transform=None, target_transform=None):\n",
        "    self.img_labels = pd.read_csv(annotations_file, names=[\"file_name\", \"label\"])\n",
        "    self.img_dir = img_dir\n",
        "    self.transform = transform\n",
        "    self.target_transform = target_transform\n",
        "\n",
        "  def __len__(self):\n",
        "    return len(self.img_labels)\n",
        "\n",
        "  def __getitem__(self, idx):\n",
        "    img_path = os.path.join(self.img_dir, self.img_labels.iloc[idx, 0])\n",
        "    image = read_image(img_path)\n",
        "    label = self.img_labels.iloc[idx, 1]\n",
        "    if self.transform:\n",
        "      image = self.transform(image)\n",
        "    if self.target_transform:\n",
        "      label = self.target_transform(label)\n",
        "    return image, label"
      ],
      "metadata": {
        "id": "1f9ZfqHv2KBQ"
      },
      "execution_count": 7,
      "outputs": []
    },
    {
      "cell_type": "markdown",
      "source": [
        "## \\_\\_init__\n",
        "- \\_\\_init__ 함수는 Dataset 객체가 생성(instantiate)될 때 한 번만 실행됨\n",
        "- 여기 예제에서 이미지와 주석 파일(annotation_file)이 포함된 디렉토리와 두가지 변형을 초기화 함"
      ],
      "metadata": {
        "id": "OpfUb3pG3Anp"
      }
    },
    {
      "cell_type": "markdown",
      "source": [
        "## \\_\\_len__\n",
        "- \\_\\_len__ 함수는 데이터셋의 샘플 개수를 반환"
      ],
      "metadata": {
        "id": "31MTbUQI3Y64"
      }
    },
    {
      "cell_type": "markdown",
      "source": [
        "## \\_\\_getitem__\n",
        "- \\_\\_getitem__ 함수는 주어진 인덱스 idx에 해당하는 샘플을 데이터셋에서 불러오고 반환함\n",
        "- 인덱스를 기반으로 디스크에서 이미지의 위치를 식별하고, read_image를 사용하여 이미지를 텐서롤 반환하고, self.img_labels의 csv 데이터로부터 해당하는 정답(label)을 가져오고, (해당하는 경우) 변형(transform)함수들을 호출한 뒤, 텐서 이미지와 라벨을 dict형으로 반환함"
      ],
      "metadata": {
        "id": "hTwXAcpl3jKd"
      }
    },
    {
      "cell_type": "markdown",
      "source": [
        "## DataLoader로 학습용 데이터 준비하기\n",
        "- Dataset은 데이터셋의 특징(feature)을 가져오고 하나의 샘플에 정답(label)을 지정하는 일을 한 번에 함\n",
        "- 모델을 학습할 때, 일반적으로 샘플들을 <<미니배치(minibatch)>>로 전달하고, 매 에포크(epoch)마다 데이터를 다시 섰어서 과적합(overfit)을 막고, pytho의 multiprocessing을 사용하여 데이터 검색 속도를 높이려고 함"
      ],
      "metadata": {
        "id": "4DV6zIUM4FfS"
      }
    },
    {
      "cell_type": "code",
      "source": [
        "from torch.utils.data import DataLoader\n",
        "\n",
        "train_dataloader = DataLoader(training_data, batch_size=64, shuffle=True)\n",
        "test_dataloader = DataLoader(test_data, batch_size=64, shuffle=True)"
      ],
      "metadata": {
        "id": "E10KjWkQ5NBn"
      },
      "execution_count": 9,
      "outputs": []
    },
    {
      "cell_type": "markdown",
      "source": [
        "## DataLoader를 통해 순회하기(iterate)\n",
        "- DataLoader에 데이터셋을 불러온 뒤에는 필요에 따라 데이터셋을 순회(iterate)할 수 있음\n",
        "- 예제의 각 순회(iteration)는 (각각 batch_size=64의 특징(feature)과 정답(label)을 포함하는) train_features와 train_labels의 묶음(batch)을 반환\n",
        "- shuffle=True로 지정했으므로, 모든 배치를 순회한 뒤 데이터가 섞임"
      ],
      "metadata": {
        "id": "uoK1hg0f5dnn"
      }
    },
    {
      "cell_type": "code",
      "source": [
        "# 이미지와 정답(label)을 표시함\n",
        "train_features, train_labels = next(iter(train_dataloader))\n",
        "img = train_features[0].squeeze()\n",
        "label = train_labels[0]\n",
        "plt.imshow(img, cmap=\"gray\")\n",
        "plt.show()\n",
        "print(f\"Feature batch shape: {train_features.size()}\")\n",
        "print(f\"Labels batch shape: {train_labels.size()}\")\n",
        "print(f\"Label: {label}\")"
      ],
      "metadata": {
        "colab": {
          "base_uri": "https://localhost:8080/",
          "height": 484
        },
        "id": "rPMa1dj229Qa",
        "outputId": "e9de0eba-dd90-4274-c687-6f6f50724407"
      },
      "execution_count": 11,
      "outputs": [
        {
          "output_type": "display_data",
          "data": {
            "text/plain": [
              "<Figure size 640x480 with 1 Axes>"
            ],
            "image/png": "[encoded data removed]"
          },
          "metadata": {}
        },
        {
          "output_type": "stream",
          "name": "stdout",
          "text": [
            "Feature batch shape: torch.Size([64, 1, 28, 28])\n",
            "Labels batch shape: torch.Size([64])\n",
            "Label: 3\n"
          ]
        }
      ]
    },
    {
      "cell_type": "code",
      "source": [],
      "metadata": {
        "id": "q5VjXWyv5KgU"
      },
      "execution_count": null,
      "outputs": []
    }
  ]
}